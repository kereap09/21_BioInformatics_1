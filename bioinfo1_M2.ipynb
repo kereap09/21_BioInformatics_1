{
 "cells": [
  {
   "cell_type": "markdown",
   "metadata": {},
   "source": [
    "## Figure S5A, Distribution of ribosome-protected fragments"
   ]
  },
  {
   "cell_type": "markdown",
   "metadata": {
    "id": "Oe_54MZrEi4y"
   },
   "source": [
    "## Mission 2\n",
    "\n",
    "이번 미션에서는 start codon 주변에서 ribosome-protected fragment의 분포를 한 번 살펴보겠습니다. 보통은 RPF의 5'-end 분포가 start codon 앞 15nt 정도에서부터 본격적으로 많이 나오고, 거기서부터 CDS를 걸쳐서 3nt 주기로 올록볼록한 패턴이 나타납니다.\n",
    "\n",
    "이 그림을 제대로 그리려면 genome coordinate를 start codon을 기준으로 변환해서 작업해야 하지만, 이번 미션에서는 난이도를 적절히 내리기 위해서 start codon이 포함된 exon에 존재하는 5' end만 추려서 작업하도록 합시다. (여유가 좀 있어서 난이도를 적당히 올리고 싶은 분들은 negative strand를 포함할 수도 있고, start codon과 다른 exon에 있는 경우를 포함할 수도 있습니다. 또한 APPRIS 등을 기반으로 해서 transcript 중에 가장 )"
   ]
  },
  {
   "cell_type": "code",
   "execution_count": 7,
   "metadata": {
    "id": "IANz6DmLUkA6"
   },
   "outputs": [
    {
     "name": "stdout",
     "output_type": "stream",
     "text": [
      "/home/delee/class/생정1/tst/binfo1-datapack1\n"
     ]
    }
   ],
   "source": [
    "%cd ../tst/binfo1-datapack1"
   ]
  },
  {
   "cell_type": "markdown",
   "metadata": {
    "id": "68uh7WVkUjhr"
   },
   "source": [
    "우선 annotation에서 start codon이 포함된 exon만 추립니다. Gene 한 개에 isoform이 여러 개 있는 경우 모두 쓰면 read가 너무 부풀려질 수 있기 때문에 우선 transcript support level이 1인 것만 추려서 사용합니다. 여전히 TSL 1만 쓰더라도 부풀려질 가능성은 있기 때문에 제대로 하자면 APPRIS나 RNA-seq 데이터 기준으로 하나만 선정하는 것이 좋습니다만, 일단 여기서는 간단히..\n",
    "\n",
    "그리고, - strand가 들어가면 좀 계산이 복잡해지니까 또 간단하게 하기 위해서 + strand만 고릅니다. 이번엔 일단 무조건 간단하게 해 봅시다~"
   ]
  },
  {
   "cell_type": "code",
   "execution_count": 9,
   "metadata": {
    "id": "vvFgM8hJUzDx"
   },
   "outputs": [
    {
     "name": "stdout",
     "output_type": "stream",
     "text": [
      "grep: warning: GREP_OPTIONS is deprecated; please use an alias or script\r\n",
      "grep: gencode.gtf: No such file or directory\r\n"
     ]
    }
   ],
   "source": [
    "!grep ' start_codon .*+.*transcript_support_level \"1\"' gencode.gtf | \\\n",
    " sed -e 's/ [^ ]*transcript_id \"\\([^\"]*\\)\".*$/ \\1/g' > gencode-start.gtf\n",
    "!head gencode-start.gtf"
   ]
  },
  {
   "cell_type": "markdown",
   "metadata": {
    "id": "iWvIeTYOWsR6"
   },
   "source": [
    "start codon가 들어가 있는 exon들을 고르기 위해서 미리 + strand에 있는 exon를 추립니다.. start codon 쪽에서 TSL 기준으로 골랐기 때문에 여기서는 고르지 않아도 됩니다. 물론 좀 느려지기는 하지만..."
   ]
  },
  {
   "cell_type": "code",
   "execution_count": null,
   "metadata": {
    "id": "yCqK2wyYWitn"
   },
   "outputs": [],
   "source": [
    "!grep '\texon\t.*\t+\t' gencode.gtf | \\\n",
    " sed -e 's/\t[^\t]*transcript_id \"\\([^\"]*\\)\".*$/\t\\1/g' > gencode-plusexon.gtf\n",
    "!head gencode-plusexon.gtf"
   ]
  },
  {
   "cell_type": "markdown",
   "metadata": {
    "id": "suULe5k6Yelf"
   },
   "source": [
    "그 다음엔 exon 리스트와 start codon 리스트를 겹치고, transcript가 같은 것만 살려둡니다. 기왕 좀 다루기 쉽도록 출력은 bed로 하면서 좌표계를 바꿉니다. 결과는 bedtools에서 빠르게 다룰 수 있게 sort해 둡니다."
   ]
  },
  {
   "cell_type": "code",
   "execution_count": null,
   "metadata": {
    "id": "Zsv2_w5OXU9c"
   },
   "outputs": [],
   "source": [
    "!bedtools intersect -a gencode-start.gtf -b gencode-plusexon.gtf -wa -wb | \\\n",
    " awk -F'\t' -v OFS='\t' '$9 == $18 { print $10, $13-1, $14, $18, $4-1, $16; }' | \\\n",
    " sort -k1,1 -k2,3n -k4,4 > gencode-exons-containing-startcodon.bed\n",
    "!head gencode-exons-containing-startcodon.bed; tail gencode-exons-containing-startcodon.bed"
   ]
  },
  {
   "cell_type": "markdown",
   "metadata": {
    "id": "KvPNCpbtaYnC"
   },
   "source": [
    "컬럼 4번에 transcript id, 5번에 start codon 위치를 넣었는데, start codon이 같은 것들이 여러개 눈에 띕니다. 아주 찝찝하지만, 우선 이번은 간단하게 할 것이기 때문에 눈을 질끈 감고 넘어가 봅시다.\n",
    "\n",
    "이제 alignment를 준비합니다. + strand alignment에서 read length가 짧은 것도 미리 필터링 합니다. RPF는 보통 25nt 이상이기 때문에 그 이하는 거의 확실히 rRNA, tRNA 등에서 오염된 것들입니다. SAM 파일 전체를 필터링해서 다시 인코딩하기 때문에 시간이 좀 걸립니다."
   ]
  },
  {
   "cell_type": "code",
   "execution_count": null,
   "metadata": {
    "id": "ZZaOeHo1alCB"
   },
   "outputs": [],
   "source": [
    "!(samtools view -H RPF-siLuc.bam; \\\n",
    "  samtools view -F20 RPF-siLuc.bam | \\\n",
    "  bioawk -c sam '{ if (length($seq) >= 25) print $0; }') | \\\n",
    " samtools view -b -o filtered-RPF-siLuc.bam"
   ]
  },
  {
   "cell_type": "markdown",
   "metadata": {
    "id": "U1JDNb8ndTdk"
   },
   "source": [
    "큰 일을 했으니 용량을 한 번 봅니다."
   ]
  },
  {
   "cell_type": "code",
   "execution_count": null,
   "metadata": {
    "id": "5OrnDxegFAip"
   },
   "outputs": [],
   "source": [
    "!ls -al *RPF-siLuc.bam"
   ]
  },
  {
   "cell_type": "markdown",
   "metadata": {
    "id": "pr9zpKFmdi2e"
   },
   "source": [
    "자 이제 read의 5' end 위치를 셉니다. bedtools의 `genomecov`를 쓰면 아주 편리합니다."
   ]
  },
  {
   "cell_type": "code",
   "execution_count": null,
   "metadata": {
    "id": "IZjHau7zftoU"
   },
   "outputs": [],
   "source": [
    "!bedtools genomecov -ibam filtered-RPF-siLuc.bam -bg -5 > fivepcounts-RPF-siLuc.bed\n",
    "!head fivepcounts-RPF-siLuc.bed"
   ]
  },
  {
   "cell_type": "markdown",
   "metadata": {
    "id": "y_AHnHnZmYJu"
   },
   "source": [
    "그렇게 match 된 것들 중에 앞에서 찾은 start codon을 포함한 exon과 겹치는 것만 골라냅니다."
   ]
  },
  {
   "cell_type": "code",
   "execution_count": null,
   "metadata": {
    "id": "k1cOiX2Hftlx"
   },
   "outputs": [],
   "source": [
    "!bedtools intersect -a fivepcounts-RPF-siLuc.bed -b gencode-exons-containing-startcodon.bed \\\n",
    " -wa -wb -nonamecheck > fivepcounts-filtered-RPF-siLuc.txt\n",
    "!head fivepcounts-filtered-RPF-siLuc.txt"
   ]
  },
  {
   "cell_type": "markdown",
   "metadata": {
    "id": "0OcjYZ9bnL_6"
   },
   "source": [
    "모든 준비가 끝났습니다. 이제 Figure S5A 도전해 보세요!\n",
    "\n",
    "* stop codon은 빼고 start codon 만입니다.\n",
    "* 논문에서는 처리가 어려운 부분까지 모두 포함됐고, read를 중첩해서 세지 않았기 때문에, 여기서 세는 것과는 수치는 다를 수 있습니다.\n",
    "* `pandas`로 한꺼번에 데이터를 모두 불러들이면 메모리가 부족할 수도 있습니다. 그런 경우에는 chunk를 쓰거나, 줄 단위로 처리해 보세요."
   ]
  },
  {
   "cell_type": "code",
   "execution_count": null,
   "metadata": {},
   "outputs": [],
   "source": []
  },
  {
   "cell_type": "code",
   "execution_count": 1,
   "metadata": {},
   "outputs": [],
   "source": [
    "import pandas as pd"
   ]
  },
  {
   "cell_type": "code",
   "execution_count": null,
   "metadata": {},
   "outputs": [],
   "source": [
    "#sinLuc"
   ]
  },
  {
   "cell_type": "code",
   "execution_count": null,
   "metadata": {
    "id": "aPPW73t4X3pp"
   },
   "outputs": [],
   "source": [
    "# read table with df\n",
    "f = open(\"./binfo1-datapack1/fivepcounts-filtered-RPF-siLuc.txt\", \"r\")\n",
    "ff = f.read().split('\\n')\n",
    "\n",
    "for i in list(range(len(ff))):\n",
    "    ff[i] = ff[i].split('\\t')\n",
    "\n",
    "ff = pd.DataFrame(ff)"
   ]
  },
  {
   "cell_type": "code",
   "execution_count": null,
   "metadata": {
    "id": "aPPW73t4X3pp"
   },
   "outputs": [],
   "source": [
    "ff.iloc[:,8] = pd.to_numeric(ff.iloc[:,8])\n",
    "ff.iloc[:,5] = pd.to_numeric(ff.iloc[:,5])\n",
    "ff.iloc[:,3] = pd.to_numeric(ff.iloc[:,3])\n",
    "ff.iloc[:,1] = pd.to_numeric(ff.iloc[:,1])\n",
    "ff.iloc[:,2] = pd.to_numeric(ff.iloc[:,2])"
   ]
  },
  {
   "cell_type": "code",
   "execution_count": 43,
   "metadata": {
    "id": "aPPW73t4X3pp"
   },
   "outputs": [
    {
     "data": {
      "text/html": [
       "<div>\n",
       "<style scoped>\n",
       "    .dataframe tbody tr th:only-of-type {\n",
       "        vertical-align: middle;\n",
       "    }\n",
       "\n",
       "    .dataframe tbody tr th {\n",
       "        vertical-align: top;\n",
       "    }\n",
       "\n",
       "    .dataframe thead th {\n",
       "        text-align: right;\n",
       "    }\n",
       "</style>\n",
       "<table border=\"1\" class=\"dataframe\">\n",
       "  <thead>\n",
       "    <tr style=\"text-align: right;\">\n",
       "      <th></th>\n",
       "      <th>0</th>\n",
       "      <th>1</th>\n",
       "      <th>2</th>\n",
       "      <th>3</th>\n",
       "      <th>4</th>\n",
       "      <th>5</th>\n",
       "      <th>6</th>\n",
       "      <th>7</th>\n",
       "      <th>8</th>\n",
       "      <th>9</th>\n",
       "      <th>rel_pos</th>\n",
       "    </tr>\n",
       "  </thead>\n",
       "  <tbody>\n",
       "    <tr>\n",
       "      <th>0</th>\n",
       "      <td>chr1</td>\n",
       "      <td>4878048.0</td>\n",
       "      <td>4878049.0</td>\n",
       "      <td>1.0</td>\n",
       "      <td>chr1</td>\n",
       "      <td>4878010.0</td>\n",
       "      <td>4878205</td>\n",
       "      <td>ENSMUST00000134384.8</td>\n",
       "      <td>4878136.0</td>\n",
       "      <td>+</td>\n",
       "      <td>-88.0</td>\n",
       "    </tr>\n",
       "    <tr>\n",
       "      <th>1</th>\n",
       "      <td>chr1</td>\n",
       "      <td>4878048.0</td>\n",
       "      <td>4878049.0</td>\n",
       "      <td>1.0</td>\n",
       "      <td>chr1</td>\n",
       "      <td>4878045.0</td>\n",
       "      <td>4878205</td>\n",
       "      <td>ENSMUST00000027036.11</td>\n",
       "      <td>4878136.0</td>\n",
       "      <td>+</td>\n",
       "      <td>-88.0</td>\n",
       "    </tr>\n",
       "    <tr>\n",
       "      <th>2</th>\n",
       "      <td>chr1</td>\n",
       "      <td>4878077.0</td>\n",
       "      <td>4878078.0</td>\n",
       "      <td>1.0</td>\n",
       "      <td>chr1</td>\n",
       "      <td>4878010.0</td>\n",
       "      <td>4878205</td>\n",
       "      <td>ENSMUST00000134384.8</td>\n",
       "      <td>4878136.0</td>\n",
       "      <td>+</td>\n",
       "      <td>-59.0</td>\n",
       "    </tr>\n",
       "    <tr>\n",
       "      <th>3</th>\n",
       "      <td>chr1</td>\n",
       "      <td>4878077.0</td>\n",
       "      <td>4878078.0</td>\n",
       "      <td>1.0</td>\n",
       "      <td>chr1</td>\n",
       "      <td>4878045.0</td>\n",
       "      <td>4878205</td>\n",
       "      <td>ENSMUST00000027036.11</td>\n",
       "      <td>4878136.0</td>\n",
       "      <td>+</td>\n",
       "      <td>-59.0</td>\n",
       "    </tr>\n",
       "    <tr>\n",
       "      <th>4</th>\n",
       "      <td>chr1</td>\n",
       "      <td>4878077.0</td>\n",
       "      <td>4878078.0</td>\n",
       "      <td>1.0</td>\n",
       "      <td>chr1</td>\n",
       "      <td>4878052.0</td>\n",
       "      <td>4878205</td>\n",
       "      <td>ENSMUST00000150971.8</td>\n",
       "      <td>4878136.0</td>\n",
       "      <td>+</td>\n",
       "      <td>-59.0</td>\n",
       "    </tr>\n",
       "  </tbody>\n",
       "</table>\n",
       "</div>"
      ],
      "text/plain": [
       "      0          1          2    3     4          5        6  \\\n",
       "0  chr1  4878048.0  4878049.0  1.0  chr1  4878010.0  4878205   \n",
       "1  chr1  4878048.0  4878049.0  1.0  chr1  4878045.0  4878205   \n",
       "2  chr1  4878077.0  4878078.0  1.0  chr1  4878010.0  4878205   \n",
       "3  chr1  4878077.0  4878078.0  1.0  chr1  4878045.0  4878205   \n",
       "4  chr1  4878077.0  4878078.0  1.0  chr1  4878052.0  4878205   \n",
       "\n",
       "                       7          8  9  rel_pos  \n",
       "0   ENSMUST00000134384.8  4878136.0  +    -88.0  \n",
       "1  ENSMUST00000027036.11  4878136.0  +    -88.0  \n",
       "2   ENSMUST00000134384.8  4878136.0  +    -59.0  \n",
       "3  ENSMUST00000027036.11  4878136.0  +    -59.0  \n",
       "4   ENSMUST00000150971.8  4878136.0  +    -59.0  "
      ]
     },
     "execution_count": 43,
     "metadata": {},
     "output_type": "execute_result"
    }
   ],
   "source": [
    "ff[\"rel_pos\"] = ff.iloc[:,1]-ff.iloc[:,8]\n",
    "ff.head()"
   ]
  },
  {
   "cell_type": "code",
   "execution_count": 44,
   "metadata": {},
   "outputs": [],
   "source": [
    "cnt_li = []\n",
    "\n",
    "for i in set(ff[\"rel_pos\"]):\n",
    "    cnt_li.append(sum(ff.loc[ff.loc[:,\"rel_pos\"] == i,3])/1000)"
   ]
  },
  {
   "cell_type": "code",
   "execution_count": 45,
   "metadata": {},
   "outputs": [
    {
     "data": {
      "text/html": [
       "<div>\n",
       "<style scoped>\n",
       "    .dataframe tbody tr th:only-of-type {\n",
       "        vertical-align: middle;\n",
       "    }\n",
       "\n",
       "    .dataframe tbody tr th {\n",
       "        vertical-align: top;\n",
       "    }\n",
       "\n",
       "    .dataframe thead th {\n",
       "        text-align: right;\n",
       "    }\n",
       "</style>\n",
       "<table border=\"1\" class=\"dataframe\">\n",
       "  <thead>\n",
       "    <tr style=\"text-align: right;\">\n",
       "      <th></th>\n",
       "      <th>rel_pos</th>\n",
       "      <th>rel_cnt</th>\n",
       "    </tr>\n",
       "  </thead>\n",
       "  <tbody>\n",
       "    <tr>\n",
       "      <th>0</th>\n",
       "      <td>0.0</td>\n",
       "      <td>26.289</td>\n",
       "    </tr>\n",
       "    <tr>\n",
       "      <th>1</th>\n",
       "      <td>1.0</td>\n",
       "      <td>5.234</td>\n",
       "    </tr>\n",
       "    <tr>\n",
       "      <th>2</th>\n",
       "      <td>2.0</td>\n",
       "      <td>14.082</td>\n",
       "    </tr>\n",
       "    <tr>\n",
       "      <th>3</th>\n",
       "      <td>3.0</td>\n",
       "      <td>14.167</td>\n",
       "    </tr>\n",
       "    <tr>\n",
       "      <th>4</th>\n",
       "      <td>4.0</td>\n",
       "      <td>3.051</td>\n",
       "    </tr>\n",
       "  </tbody>\n",
       "</table>\n",
       "</div>"
      ],
      "text/plain": [
       "   rel_pos  rel_cnt\n",
       "0      0.0   26.289\n",
       "1      1.0    5.234\n",
       "2      2.0   14.082\n",
       "3      3.0   14.167\n",
       "4      4.0    3.051"
      ]
     },
     "execution_count": 45,
     "metadata": {},
     "output_type": "execute_result"
    }
   ],
   "source": [
    "m_f = pd.DataFrame(set(ff[\"rel_pos\"]), columns=[\"rel_pos\"])\n",
    "m_f[\"rel_cnt\"] = cnt_li\n",
    "m_f.head()"
   ]
  },
  {
   "cell_type": "code",
   "execution_count": 12,
   "metadata": {},
   "outputs": [],
   "source": [
    "import matplotlib.pyplot as plt\n",
    "import seaborn as sb"
   ]
  },
  {
   "cell_type": "code",
   "execution_count": 52,
   "metadata": {},
   "outputs": [
    {
     "data": {
      "image/png": "[encoded data removed]",
      "text/plain": [
       "<Figure size 432x288 with 1 Axes>"
      ]
     },
     "metadata": {
      "needs_background": "light"
     },
     "output_type": "display_data"
    }
   ],
   "source": [
    "plt.bar(m_f.loc[:,\"rel_pos\"],m_f.loc[:,\"rel_cnt\"], color=\"k\")\n",
    "plt.xlabel('Relative position to start codon of 5\\'-end of reads')\n",
    "plt.ylabel('siLuc\\nRaw read coun\\n(x1000)')\n",
    "plt.axvline(0,c=\"r\") #, lw=0.5)\n",
    "plt.xlim([-50,50])\n",
    "plt.savefig(\"siLuc.png\",dpi=300)\n",
    "plt.show()"
   ]
  },
  {
   "cell_type": "code",
   "execution_count": null,
   "metadata": {},
   "outputs": [],
   "source": [
    "#siLin28a"
   ]
  },
  {
   "cell_type": "code",
   "execution_count": 47,
   "metadata": {},
   "outputs": [
    {
     "data": {
      "text/html": [
       "<div>\n",
       "<style scoped>\n",
       "    .dataframe tbody tr th:only-of-type {\n",
       "        vertical-align: middle;\n",
       "    }\n",
       "\n",
       "    .dataframe tbody tr th {\n",
       "        vertical-align: top;\n",
       "    }\n",
       "\n",
       "    .dataframe thead th {\n",
       "        text-align: right;\n",
       "    }\n",
       "</style>\n",
       "<table border=\"1\" class=\"dataframe\">\n",
       "  <thead>\n",
       "    <tr style=\"text-align: right;\">\n",
       "      <th></th>\n",
       "      <th>0</th>\n",
       "      <th>1</th>\n",
       "      <th>2</th>\n",
       "      <th>3</th>\n",
       "      <th>4</th>\n",
       "      <th>5</th>\n",
       "      <th>6</th>\n",
       "      <th>7</th>\n",
       "      <th>8</th>\n",
       "      <th>9</th>\n",
       "      <th>rel_pos</th>\n",
       "    </tr>\n",
       "  </thead>\n",
       "  <tbody>\n",
       "    <tr>\n",
       "      <th>0</th>\n",
       "      <td>chr1</td>\n",
       "      <td>4878043.0</td>\n",
       "      <td>4878044.0</td>\n",
       "      <td>1.0</td>\n",
       "      <td>chr1</td>\n",
       "      <td>4878010.0</td>\n",
       "      <td>4878205</td>\n",
       "      <td>ENSMUST00000134384.8</td>\n",
       "      <td>4878136.0</td>\n",
       "      <td>+</td>\n",
       "      <td>-93.0</td>\n",
       "    </tr>\n",
       "    <tr>\n",
       "      <th>1</th>\n",
       "      <td>chr1</td>\n",
       "      <td>4878056.0</td>\n",
       "      <td>4878057.0</td>\n",
       "      <td>3.0</td>\n",
       "      <td>chr1</td>\n",
       "      <td>4878010.0</td>\n",
       "      <td>4878205</td>\n",
       "      <td>ENSMUST00000134384.8</td>\n",
       "      <td>4878136.0</td>\n",
       "      <td>+</td>\n",
       "      <td>-80.0</td>\n",
       "    </tr>\n",
       "    <tr>\n",
       "      <th>2</th>\n",
       "      <td>chr1</td>\n",
       "      <td>4878056.0</td>\n",
       "      <td>4878057.0</td>\n",
       "      <td>3.0</td>\n",
       "      <td>chr1</td>\n",
       "      <td>4878045.0</td>\n",
       "      <td>4878205</td>\n",
       "      <td>ENSMUST00000027036.11</td>\n",
       "      <td>4878136.0</td>\n",
       "      <td>+</td>\n",
       "      <td>-80.0</td>\n",
       "    </tr>\n",
       "    <tr>\n",
       "      <th>3</th>\n",
       "      <td>chr1</td>\n",
       "      <td>4878056.0</td>\n",
       "      <td>4878057.0</td>\n",
       "      <td>3.0</td>\n",
       "      <td>chr1</td>\n",
       "      <td>4878052.0</td>\n",
       "      <td>4878205</td>\n",
       "      <td>ENSMUST00000150971.8</td>\n",
       "      <td>4878136.0</td>\n",
       "      <td>+</td>\n",
       "      <td>-80.0</td>\n",
       "    </tr>\n",
       "    <tr>\n",
       "      <th>4</th>\n",
       "      <td>chr1</td>\n",
       "      <td>4878074.0</td>\n",
       "      <td>4878075.0</td>\n",
       "      <td>1.0</td>\n",
       "      <td>chr1</td>\n",
       "      <td>4878010.0</td>\n",
       "      <td>4878205</td>\n",
       "      <td>ENSMUST00000134384.8</td>\n",
       "      <td>4878136.0</td>\n",
       "      <td>+</td>\n",
       "      <td>-62.0</td>\n",
       "    </tr>\n",
       "  </tbody>\n",
       "</table>\n",
       "</div>"
      ],
      "text/plain": [
       "      0          1          2    3     4          5        6  \\\n",
       "0  chr1  4878043.0  4878044.0  1.0  chr1  4878010.0  4878205   \n",
       "1  chr1  4878056.0  4878057.0  3.0  chr1  4878010.0  4878205   \n",
       "2  chr1  4878056.0  4878057.0  3.0  chr1  4878045.0  4878205   \n",
       "3  chr1  4878056.0  4878057.0  3.0  chr1  4878052.0  4878205   \n",
       "4  chr1  4878074.0  4878075.0  1.0  chr1  4878010.0  4878205   \n",
       "\n",
       "                       7          8  9  rel_pos  \n",
       "0   ENSMUST00000134384.8  4878136.0  +    -93.0  \n",
       "1   ENSMUST00000134384.8  4878136.0  +    -80.0  \n",
       "2  ENSMUST00000027036.11  4878136.0  +    -80.0  \n",
       "3   ENSMUST00000150971.8  4878136.0  +    -80.0  \n",
       "4   ENSMUST00000134384.8  4878136.0  +    -62.0  "
      ]
     },
     "execution_count": 47,
     "metadata": {},
     "output_type": "execute_result"
    }
   ],
   "source": [
    "f = open(\"./binfo1-datapack1/fivepcounts-filtered-RPF-siLin28a.txt\", \"r\")\n",
    "ff = f.read().split('\\n')\n",
    "\n",
    "for i in list(range(len(ff))):\n",
    "    ff[i] = ff[i].split('\\t')\n",
    "\n",
    "ff = pd.DataFrame(ff)\n",
    "ff\n",
    "# 1~2 5'end 구간,\n",
    "# 3 : 해당 구간에 있는 gene 개수\n",
    "#` 5~6 : exon의 start, end location\n",
    "# 8 : start codon start 위치 \n",
    "ff.iloc[:,8] = pd.to_numeric(ff.iloc[:,8])\n",
    "ff.iloc[:,5] = pd.to_numeric(ff.iloc[:,5])\n",
    "ff.iloc[:,3] = pd.to_numeric(ff.iloc[:,3])\n",
    "ff.iloc[:,1] = pd.to_numeric(ff.iloc[:,1])\n",
    "ff.iloc[:,2] = pd.to_numeric(ff.iloc[:,2])\n",
    "\n",
    "ff[\"rel_pos\"] = ff.iloc[:,1]-ff.iloc[:,8]\n",
    "ff.head()"
   ]
  },
  {
   "cell_type": "code",
   "execution_count": 49,
   "metadata": {},
   "outputs": [
    {
     "data": {
      "text/html": [
       "<div>\n",
       "<style scoped>\n",
       "    .dataframe tbody tr th:only-of-type {\n",
       "        vertical-align: middle;\n",
       "    }\n",
       "\n",
       "    .dataframe tbody tr th {\n",
       "        vertical-align: top;\n",
       "    }\n",
       "\n",
       "    .dataframe thead th {\n",
       "        text-align: right;\n",
       "    }\n",
       "</style>\n",
       "<table border=\"1\" class=\"dataframe\">\n",
       "  <thead>\n",
       "    <tr style=\"text-align: right;\">\n",
       "      <th></th>\n",
       "      <th>rel_pos</th>\n",
       "      <th>rel_cnt</th>\n",
       "    </tr>\n",
       "  </thead>\n",
       "  <tbody>\n",
       "    <tr>\n",
       "      <th>0</th>\n",
       "      <td>0.0</td>\n",
       "      <td>19.658</td>\n",
       "    </tr>\n",
       "    <tr>\n",
       "      <th>1</th>\n",
       "      <td>1.0</td>\n",
       "      <td>3.188</td>\n",
       "    </tr>\n",
       "    <tr>\n",
       "      <th>2</th>\n",
       "      <td>2.0</td>\n",
       "      <td>9.469</td>\n",
       "    </tr>\n",
       "    <tr>\n",
       "      <th>3</th>\n",
       "      <td>3.0</td>\n",
       "      <td>10.956</td>\n",
       "    </tr>\n",
       "    <tr>\n",
       "      <th>4</th>\n",
       "      <td>4.0</td>\n",
       "      <td>2.011</td>\n",
       "    </tr>\n",
       "  </tbody>\n",
       "</table>\n",
       "</div>"
      ],
      "text/plain": [
       "   rel_pos  rel_cnt\n",
       "0      0.0   19.658\n",
       "1      1.0    3.188\n",
       "2      2.0    9.469\n",
       "3      3.0   10.956\n",
       "4      4.0    2.011"
      ]
     },
     "execution_count": 49,
     "metadata": {},
     "output_type": "execute_result"
    }
   ],
   "source": [
    "cnt_li = []\n",
    "\n",
    "for i in set(ff[\"rel_pos\"]):\n",
    "    cnt_li.append(sum(ff.loc[ff.loc[:,\"rel_pos\"] == i,3])/1000)\n",
    "m_f = pd.DataFrame(set(ff[\"rel_pos\"]), columns=[\"rel_pos\"])\n",
    "m_f[\"rel_cnt\"] = cnt_li\n",
    "m_f.head()"
   ]
  },
  {
   "cell_type": "code",
   "execution_count": 56,
   "metadata": {},
   "outputs": [
    {
     "data": {
      "image/png": "[encoded data removed]",
      "text/plain": [
       "<Figure size 432x288 with 1 Axes>"
      ]
     },
     "metadata": {
      "needs_background": "light"
     },
     "output_type": "display_data"
    }
   ],
   "source": [
    "plt.bar(m_f.loc[:,\"rel_pos\"],m_f.loc[:,\"rel_cnt\"], color=\"k\")\n",
    "plt.xlabel('Relative position to start codon of 5\\'-end of reads')\n",
    "plt.ylabel('siLin28a\\nRaw read coun\\n(x1000)')\n",
    "plt.axvline(0,c=\"r\") #, lw=0.5)\n",
    "# plt.savefig(\"siLin28a.png\",dpi=300)\n",
    "plt.xlim([-50,50])\n",
    "plt.show()"
   ]
  }
 ],
 "metadata": {
  "colab": {
   "collapsed_sections": [],
   "name": "CoLab-TermProj-M2.ipynb",
   "provenance": []
  },
  "kernelspec": {
   "display_name": "Python 3",
   "language": "python",
   "name": "python3"
  },
  "language_info": {
   "codemirror_mode": {
    "name": "ipython",
    "version": 3
   },
   "file_extension": ".py",
   "mimetype": "text/x-python",
   "name": "python",
   "nbconvert_exporter": "python",
   "pygments_lexer": "ipython3",
   "version": "3.7.6"
  }
 },
 "nbformat": 4,
 "nbformat_minor": 1
}
